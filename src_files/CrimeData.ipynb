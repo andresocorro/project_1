{
 "cells": [
  {
   "cell_type": "code",
   "execution_count": 9,
   "metadata": {},
   "outputs": [],
   "source": [
    "import os\n",
    "import pandas as pd\n",
    "\n",
    "file_2012 = os.path.join(\"..\",\"Resources\",\"Texas_Cities_Crime_Resources\",\"Texas_2012.csv\")\n",
    "file_2013 = os.path.join(\"..\",\"Resources\",\"Texas_Cities_Crime_Resources\",\"Texas_2013.csv\")\n",
    "file_2014 = os.path.join(\"..\",\"Resources\",\"Texas_Cities_Crime_Resources\",\"Texas_2014.csv\")\n",
    "file_2015 = os.path.join(\"..\",\"Resources\",\"Texas_Cities_Crime_Resources\",\"Texas_2015.csv\")\n",
    "file_2016 = os.path.join(\"..\",\"Resources\",\"Texas_Cities_Crime_Resources\",\"Texas_2016.csv\")\n",
    "file_2017 = os.path.join(\"..\",\"Resources\",\"Texas_Cities_Crime_Resources\",\"Texas_2017.csv\")\n",
    "file_2018 = os.path.join(\"..\",\"Resources\",\"Texas_Cities_Crime_Resources\",\"Texas_2018.csv\")"
   ]
  },
  {
   "cell_type": "code",
   "execution_count": 17,
   "metadata": {},
   "outputs": [],
   "source": [
    "raw_2012_df = pd.read_csv(file_2012)\n",
    "raw_2013_df = pd.read_csv(file_2013)\n",
    "raw_2014_df = pd.read_csv(file_2014)\n",
    "raw_2015_df = pd.read_csv(file_2015)\n",
    "raw_2016_df = pd.read_csv(file_2016)\n",
    "raw_2017_df = pd.read_csv(file_2017)\n",
    "raw_2018_df = pd.read_csv(file_2018)"
   ]
  },
  {
   "cell_type": "code",
   "execution_count": 19,
   "metadata": {},
   "outputs": [
    {
     "data": {
      "text/plain": [
       "2012.0    647\n",
       "2016.0    625\n",
       "2015.0    620\n",
       "2014.0    620\n",
       "2018.0    613\n",
       "2017.0    613\n",
       "2013.0    604\n",
       "Name: Year, dtype: int64"
      ]
     },
     "execution_count": 19,
     "metadata": {},
     "output_type": "execute_result"
    }
   ],
   "source": [
    "crime_df = raw_2012_df.append([raw_2013_df, raw_2014_df, raw_2015_df, raw_2016_df, raw_2017_df, raw_2018_df])\n",
    "crime_df['Year'].value_counts()"
   ]
  },
  {
   "cell_type": "code",
   "execution_count": null,
   "metadata": {
    "scrolled": true
   },
   "outputs": [],
   "source": []
  },
  {
   "cell_type": "code",
   "execution_count": null,
   "metadata": {},
   "outputs": [],
   "source": []
  },
  {
   "cell_type": "markdown",
   "metadata": {},
   "source": [
    "### Create a dataframe for violent crimes (total crimes) per capita or percentage per year for cities. Best way to show visualization would be through bar graphs."
   ]
  },
  {
   "cell_type": "code",
   "execution_count": null,
   "metadata": {},
   "outputs": [],
   "source": []
  },
  {
   "cell_type": "markdown",
   "metadata": {},
   "source": [
    "### Create dataframes for types of crimes per city per year"
   ]
  },
  {
   "cell_type": "markdown",
   "metadata": {},
   "source": [
    "### Create demographics database based on crimes."
   ]
  },
  {
   "cell_type": "markdown",
   "metadata": {},
   "source": [
    "### Utilize Google API to map crime and create a intensity graph based on violent crime percentage/per capita "
   ]
  },
  {
   "cell_type": "markdown",
   "metadata": {},
   "source": [
    "### Dive deeper into crime data set by illustrating the history of crime for the major cities in question. (This wont be part of the over all analysis but it would be good to show and discuss)"
   ]
  },
  {
   "cell_type": "code",
   "execution_count": null,
   "metadata": {},
   "outputs": [],
   "source": []
  }
 ],
 "metadata": {
  "kernelspec": {
   "display_name": "Python 3",
   "language": "python",
   "name": "python3"
  },
  "language_info": {
   "codemirror_mode": {
    "name": "ipython",
    "version": 3
   },
   "file_extension": ".py",
   "mimetype": "text/x-python",
   "name": "python",
   "nbconvert_exporter": "python",
   "pygments_lexer": "ipython3",
   "version": "3.7.6"
  }
 },
 "nbformat": 4,
 "nbformat_minor": 4
}
